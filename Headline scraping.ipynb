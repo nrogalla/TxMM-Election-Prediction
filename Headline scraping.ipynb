{
  "cells": [
    {
      "cell_type": "markdown",
      "metadata": {
        "id": "_zkyBP5_rFlD"
      },
      "source": [
        "# Headline scraping"
      ]
    },
    {
      "cell_type": "markdown",
      "metadata": {
        "id": "yi0uwohSrAyw"
      },
      "source": [
        "\n",
        "## Imports\n"
      ]
    },
    {
      "cell_type": "code",
      "execution_count": 2,
      "metadata": {
        "id": "cl0BcvZxsj1o"
      },
      "outputs": [],
      "source": [
        "import scraping\n",
        "from datetime import datetime"
      ]
    },
    {
      "cell_type": "markdown",
      "metadata": {},
      "source": [
        "Define general scraping time range"
      ]
    },
    {
      "cell_type": "code",
      "execution_count": null,
      "metadata": {},
      "outputs": [],
      "source": [
        "start_date = datetime(2023, 9, 7)\n",
        "end_date = datetime(2023, 10, 7)"
      ]
    },
    {
      "cell_type": "markdown",
      "metadata": {},
      "source": [
        "Create directory to save headlines to"
      ]
    },
    {
      "cell_type": "code",
      "execution_count": null,
      "metadata": {},
      "outputs": [],
      "source": [
        "import os\n",
        "\n",
        "# Specify the directory paths\n",
        "parent_directory = '/data'\n",
        "sub_directory = 'Parsed_headlines'\n",
        "\n",
        "# Create the parent directory if it doesn't exist\n",
        "if not os.path.exists(parent_directory):\n",
        "    os.makedirs(parent_directory)\n",
        "    print(f\"Parent directory '{parent_directory}' created successfully.\")\n",
        "else:\n",
        "    print(f\"Parent directory '{parent_directory}' already exists.\")\n",
        "\n",
        "# Create the subdirectory if it doesn't exist\n",
        "if not os.path.exists(sub_directory):\n",
        "    os.makedirs(sub_directory)\n",
        "    print(f\"Subdirectory '{sub_directory}' created successfully.\")\n",
        "else:\n",
        "    print(f\"Subdirectory '{sub_directory}' already exists.\")"
      ]
    },
    {
      "cell_type": "code",
      "execution_count": null,
      "metadata": {},
      "outputs": [],
      "source": [
        "cd data"
      ]
    },
    {
      "cell_type": "markdown",
      "metadata": {
        "id": "36NRRUU7Niow"
      },
      "source": [
        "## Spiegel"
      ]
    },
    {
      "cell_type": "code",
      "execution_count": null,
      "metadata": {
        "id": "TEjoZ4nxbpQ4"
      },
      "outputs": [],
      "source": [
        "spiegel_headlines = scraping.scrape_spiegel_headlines(start_date, end_date)\n",
        "scraping.save_headlines_to_file(spiegel_headlines, 'Parsed_headlines/headlines_spiegel.txt')"
      ]
    },
    {
      "cell_type": "markdown",
      "metadata": {
        "id": "EifylHgFNfJN"
      },
      "source": [
        "## Bild"
      ]
    },
    {
      "cell_type": "code",
      "execution_count": null,
      "metadata": {
        "id": "Dofcov8Q43WY"
      },
      "outputs": [],
      "source": [
        "bild_headlines = scraping.scrape_bild_headlines(start_date, end_date)\n",
        "scraping.save_headlines_to_file(bild_headlines, 'Parsed_headlines/headlines_bild.txt')"
      ]
    },
    {
      "cell_type": "markdown",
      "metadata": {
        "id": "S9vjB-HsO9rm"
      },
      "source": [
        "## SZ headlines\n"
      ]
    },
    {
      "cell_type": "markdown",
      "metadata": {},
      "source": [
        "For exection on google colab: google-colab-selenium required"
      ]
    },
    {
      "cell_type": "code",
      "execution_count": null,
      "metadata": {
        "id": "ig430Oq0zaHN"
      },
      "outputs": [],
      "source": [
        "sz_headlines = scraping.scrape_sz_headlines(start_date, end_date)\n",
        "scraping.save_headlines_to_file(sz_headlines, 'Parsed_headlines/headlines_sz.txt')"
      ]
    },
    {
      "cell_type": "markdown",
      "metadata": {
        "id": "VCt93pw8qFBL"
      },
      "source": [
        "## FAZ\n",
        "no dates available in Archive collection"
      ]
    },
    {
      "cell_type": "code",
      "execution_count": 4,
      "metadata": {
        "id": "HIPw5003ruf9"
      },
      "outputs": [],
      "source": [
        "faz_headlines = scraping.scrape_faz_headlines()\n",
        "scraping.save_headlines_to_file(faz_headlines, 'Parsed_headlines/headlines_faz.txt')"
      ]
    },
    {
      "cell_type": "markdown",
      "metadata": {
        "id": "DoN4Y_DO1zj0"
      },
      "source": [
        "## Focus\n",
        "\n",
        "Since focus online does not have an achive for its online headlines, here only the headlines of the focus magaines are collected."
      ]
    },
    {
      "cell_type": "code",
      "execution_count": null,
      "metadata": {
        "id": "mL82yR-DX8EI"
      },
      "outputs": [],
      "source": [
        "start_nr = 37\n",
        "end_nr = 45\n",
        "\n",
        "focus_headlines = scraping.scrape_focus_headlines_politik(start_nr, end_nr)\n",
        "scraping.save_headlines_to_file(focus_headlines, 'Parsed_headlines/headlines_focus_all .txt')"
      ]
    },
    {
      "cell_type": "markdown",
      "metadata": {
        "id": "evOj6reBwu6z"
      },
      "source": [
        "## Tageschau"
      ]
    },
    {
      "cell_type": "code",
      "execution_count": null,
      "metadata": {
        "id": "xvy2IeBGxHdS"
      },
      "outputs": [],
      "source": [
        "tagesschau_headlines = scraping.scrape_tagesschau_headlines(start_date, end_date)\n",
        "scraping.save_headlines_to_file(tagesschau_headlines, 'Parsed_headlines/headlines_tagesschau.txt')"
      ]
    },
    {
      "cell_type": "markdown",
      "metadata": {
        "id": "NMBXLcer-vB1"
      },
      "source": [
        "## Welt"
      ]
    },
    {
      "cell_type": "code",
      "execution_count": null,
      "metadata": {
        "id": "e22Z8I4k0jvH"
      },
      "outputs": [],
      "source": [
        "welt_headlines = scraping.scrape_welt_headlines(start_date, end_date)\n",
        "scraping.save_headlines_to_file(welt_headlines, 'Parsed_headlines/headlines_welt .txt')"
      ]
    },
    {
      "cell_type": "markdown",
      "metadata": {
        "id": "iMysxNGZ2mHs"
      },
      "source": [
        "## t-online"
      ]
    },
    {
      "cell_type": "code",
      "execution_count": null,
      "metadata": {
        "id": "g0ahiY7xuUWh"
      },
      "outputs": [],
      "source": [
        "t_online_headlines = scraping.scrape_t_online_headlines(start_date, end_date)\n",
        "scraping.save_headlines_to_file(t_online_headlines, 'Parsed_headlines/headlines_t_online.txt')"
      ]
    },
    {
      "cell_type": "markdown",
      "metadata": {
        "id": "w283huXiodae"
      },
      "source": [
        "## Zeit\n"
      ]
    },
    {
      "cell_type": "code",
      "execution_count": null,
      "metadata": {
        "id": "MIc_irtKQRDa"
      },
      "outputs": [],
      "source": [
        "start_nr = 39\n",
        "end_nr = 42\n",
        "\n",
        "zeit_headlines = scraping.scrape_zeit_headlines(start_nr, end_nr)\n",
        "scraping.save_headlines_to_file(zeit_headlines, 'Parsed_headlines/zeit_online.txt')"
      ]
    },
    {
      "cell_type": "markdown",
      "metadata": {
        "id": "qm7bStwMZQB0"
      },
      "source": [
        "## NTV"
      ]
    },
    {
      "cell_type": "code",
      "execution_count": null,
      "metadata": {
        "colab": {
          "base_uri": "https://localhost:8080/",
          "height": 1000
        },
        "id": "PTDlbcZ62Uel",
        "outputId": "fa3f5ce3-8beb-46bf-bc8e-a0746c9caeba"
      },
      "outputs": [],
      "source": [
        "n_tv_headlines = scraping.scrape_n_tv_headlines(start_date, end_date)\n",
        "scraping.save_headlines_to_file(n_tv_headlines, 'Parsed_headlines/headlines_n_tv.txt')"
      ]
    }
  ],
  "metadata": {
    "colab": {
      "provenance": [],
      "toc_visible": true
    },
    "kernelspec": {
      "display_name": "Python 3",
      "name": "python3"
    },
    "language_info": {
      "name": "python"
    }
  },
  "nbformat": 4,
  "nbformat_minor": 0
}
